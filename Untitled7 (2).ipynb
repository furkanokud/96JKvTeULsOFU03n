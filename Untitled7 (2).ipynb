{
 "cells": [
  {
   "cell_type": "code",
   "execution_count": 1,
   "id": "56575e59-ef5a-4c4a-948b-868b10ce0881",
   "metadata": {},
   "outputs": [],
   "source": [
    "import pandas as pd \n",
    "import numpy as np "
   ]
  },
  {
   "cell_type": "code",
   "execution_count": 3,
   "id": "c8156889-b49f-410c-8f6a-2de4c52abb5c",
   "metadata": {},
   "outputs": [
    {
     "data": {
      "text/plain": [
       "<bound method NDFrame.head of        age           job   marital  education default  balance housing loan  \\\n",
       "0       58    management   married   tertiary      no     2143     yes   no   \n",
       "1       44    technician    single  secondary      no       29     yes   no   \n",
       "2       33  entrepreneur   married  secondary      no        2     yes  yes   \n",
       "3       47   blue-collar   married    unknown      no     1506     yes   no   \n",
       "4       33       unknown    single    unknown      no        1      no   no   \n",
       "...    ...           ...       ...        ...     ...      ...     ...  ...   \n",
       "39995   53    technician   married   tertiary      no      395      no   no   \n",
       "39996   30    management    single   tertiary      no     3340      no   no   \n",
       "39997   54         admin  divorced  secondary      no      200      no   no   \n",
       "39998   34    management   married   tertiary      no     1047      no   no   \n",
       "39999   38    technician   married  secondary      no     1442     yes   no   \n",
       "\n",
       "        contact  day month  duration  campaign    y  \n",
       "0       unknown    5   may       261         1   no  \n",
       "1       unknown    5   may       151         1   no  \n",
       "2       unknown    5   may        76         1   no  \n",
       "3       unknown    5   may        92         1   no  \n",
       "4       unknown    5   may       198         1   no  \n",
       "...         ...  ...   ...       ...       ...  ...  \n",
       "39995  cellular    3   jun       107         1   no  \n",
       "39996  cellular    3   jun       238         3  yes  \n",
       "39997  cellular    3   jun       170         1  yes  \n",
       "39998  cellular    3   jun       342         1   no  \n",
       "39999  cellular    3   jun       113         1   no  \n",
       "\n",
       "[40000 rows x 14 columns]>"
      ]
     },
     "execution_count": 3,
     "metadata": {},
     "output_type": "execute_result"
    }
   ],
   "source": [
    "furk = pd.read_csv (r'C:\\Users\\Owner\\Downloads\\term-deposit-marketing-2020.csv')\n",
    "furk.head"
   ]
  },
  {
   "cell_type": "code",
   "execution_count": 4,
   "id": "9edd54ff-f8fd-4511-98b1-8d8187ff5360",
   "metadata": {},
   "outputs": [
    {
     "data": {
      "text/plain": [
       "<bound method NDFrame.describe of        age           job   marital  education default  balance housing loan  \\\n",
       "0       58    management   married   tertiary      no     2143     yes   no   \n",
       "1       44    technician    single  secondary      no       29     yes   no   \n",
       "2       33  entrepreneur   married  secondary      no        2     yes  yes   \n",
       "3       47   blue-collar   married    unknown      no     1506     yes   no   \n",
       "4       33       unknown    single    unknown      no        1      no   no   \n",
       "...    ...           ...       ...        ...     ...      ...     ...  ...   \n",
       "39995   53    technician   married   tertiary      no      395      no   no   \n",
       "39996   30    management    single   tertiary      no     3340      no   no   \n",
       "39997   54         admin  divorced  secondary      no      200      no   no   \n",
       "39998   34    management   married   tertiary      no     1047      no   no   \n",
       "39999   38    technician   married  secondary      no     1442     yes   no   \n",
       "\n",
       "        contact  day month  duration  campaign    y  \n",
       "0       unknown    5   may       261         1   no  \n",
       "1       unknown    5   may       151         1   no  \n",
       "2       unknown    5   may        76         1   no  \n",
       "3       unknown    5   may        92         1   no  \n",
       "4       unknown    5   may       198         1   no  \n",
       "...         ...  ...   ...       ...       ...  ...  \n",
       "39995  cellular    3   jun       107         1   no  \n",
       "39996  cellular    3   jun       238         3  yes  \n",
       "39997  cellular    3   jun       170         1  yes  \n",
       "39998  cellular    3   jun       342         1   no  \n",
       "39999  cellular    3   jun       113         1   no  \n",
       "\n",
       "[40000 rows x 14 columns]>"
      ]
     },
     "execution_count": 4,
     "metadata": {},
     "output_type": "execute_result"
    }
   ],
   "source": [
    "furk.describe"
   ]
  },
  {
   "cell_type": "code",
   "execution_count": 6,
   "id": "a716b9a1-f58d-47a1-b45a-112919193d40",
   "metadata": {},
   "outputs": [
    {
     "name": "stdout",
     "output_type": "stream",
     "text": [
      "<class 'pandas.core.frame.DataFrame'>\n",
      "RangeIndex: 40000 entries, 0 to 39999\n",
      "Data columns (total 14 columns):\n",
      " #   Column     Non-Null Count  Dtype \n",
      "---  ------     --------------  ----- \n",
      " 0   age        40000 non-null  int64 \n",
      " 1   job        40000 non-null  object\n",
      " 2   marital    40000 non-null  object\n",
      " 3   education  40000 non-null  object\n",
      " 4   default    40000 non-null  object\n",
      " 5   balance    40000 non-null  int64 \n",
      " 6   housing    40000 non-null  object\n",
      " 7   loan       40000 non-null  object\n",
      " 8   contact    40000 non-null  object\n",
      " 9   day        40000 non-null  int64 \n",
      " 10  month      40000 non-null  object\n",
      " 11  duration   40000 non-null  int64 \n",
      " 12  campaign   40000 non-null  int64 \n",
      " 13  y          40000 non-null  object\n",
      "dtypes: int64(5), object(9)\n",
      "memory usage: 4.3+ MB\n"
     ]
    }
   ],
   "source": [
    "furk.info()"
   ]
  },
  {
   "cell_type": "code",
   "execution_count": 7,
   "id": "f494a1b3-f0d1-4b8e-bdf4-7b699fdcc516",
   "metadata": {},
   "outputs": [
    {
     "data": {
      "text/plain": [
       "age          0\n",
       "job          0\n",
       "marital      0\n",
       "education    0\n",
       "default      0\n",
       "balance      0\n",
       "housing      0\n",
       "loan         0\n",
       "contact      0\n",
       "day          0\n",
       "month        0\n",
       "duration     0\n",
       "campaign     0\n",
       "y            0\n",
       "dtype: int64"
      ]
     },
     "execution_count": 7,
     "metadata": {},
     "output_type": "execute_result"
    }
   ],
   "source": [
    "furk.isnull().sum()"
   ]
  },
  {
   "cell_type": "code",
   "execution_count": 1,
   "id": "6c2aa486-c974-48d7-99b2-13e5f0e3dd6d",
   "metadata": {},
   "outputs": [],
   "source": [
    "from sklearn.preprocessing import LabelEncoder"
   ]
  },
  {
   "cell_type": "code",
   "execution_count": 12,
   "id": "f5b92aaa-921a-45e0-9ad6-e62552e378cf",
   "metadata": {},
   "outputs": [
    {
     "data": {
      "text/plain": [
       "{0: 'admin',\n",
       " 1: 'blue-collar',\n",
       " 2: 'entrepreneur',\n",
       " 3: 'housemaid',\n",
       " 4: 'management',\n",
       " 5: 'retired',\n",
       " 6: 'self-employed',\n",
       " 7: 'services',\n",
       " 8: 'student',\n",
       " 9: 'technician',\n",
       " 10: 'unemployed',\n",
       " 11: 'unknown'}"
      ]
     },
     "execution_count": 12,
     "metadata": {},
     "output_type": "execute_result"
    }
   ],
   "source": [
    "encoder = LabelEncoder()\n",
    "furk['job'] = encoder.fit_transform(furk['job'])\n",
    "job = {index : label for index, label in enumerate(encoder.classes_)}\n",
    "job"
   ]
  },
  {
   "cell_type": "code",
   "execution_count": 15,
   "id": "4b71a60f-f8e8-4fc8-acf0-202e4fe63def",
   "metadata": {},
   "outputs": [
    {
     "data": {
      "text/plain": [
       "{0: 'divorced', 1: 'married', 2: 'single'}"
      ]
     },
     "execution_count": 15,
     "metadata": {},
     "output_type": "execute_result"
    }
   ],
   "source": [
    "furk['marital'] = encoder.fit_transform(furk['marital'])\n",
    "marital = {index : label for index, label in enumerate(encoder.classes_)}\n",
    "marital"
   ]
  },
  {
   "cell_type": "code",
   "execution_count": 16,
   "id": "4298444d-4879-453c-b0ac-e58df040ae75",
   "metadata": {},
   "outputs": [
    {
     "data": {
      "text/plain": [
       "{0: 'primary', 1: 'secondary', 2: 'tertiary', 3: 'unknown'}"
      ]
     },
     "execution_count": 16,
     "metadata": {},
     "output_type": "execute_result"
    }
   ],
   "source": [
    "furk['education'] = encoder.fit_transform(furk['education'])\n",
    "education = {index : label for index, label in enumerate(encoder.classes_)}\n",
    "education"
   ]
  },
  {
   "cell_type": "code",
   "execution_count": 17,
   "id": "dd047894-6a45-45fe-abe3-8bf789475c60",
   "metadata": {},
   "outputs": [
    {
     "data": {
      "text/plain": [
       "{0: 'no', 1: 'yes'}"
      ]
     },
     "execution_count": 17,
     "metadata": {},
     "output_type": "execute_result"
    }
   ],
   "source": [
    "furk['default'] = encoder.fit_transform(furk['default'])\n",
    "default = {index : label for index, label in enumerate(encoder.classes_)}\n",
    "default"
   ]
  },
  {
   "cell_type": "code",
   "execution_count": 18,
   "id": "405090f2-d225-4958-9f52-6fb50e6cbb8c",
   "metadata": {},
   "outputs": [
    {
     "data": {
      "text/plain": [
       "{0: 'no', 1: 'yes'}"
      ]
     },
     "execution_count": 18,
     "metadata": {},
     "output_type": "execute_result"
    }
   ],
   "source": [
    "furk['loan'] = encoder.fit_transform(furk['loan'])\n",
    "loan = {index : label for index, label in enumerate(encoder.classes_)}\n",
    "loan"
   ]
  },
  {
   "cell_type": "code",
   "execution_count": 19,
   "id": "58788e4b-6e81-4e63-a219-b8b5fdef8547",
   "metadata": {},
   "outputs": [
    {
     "data": {
      "text/plain": [
       "{0: 'cellular', 1: 'telephone', 2: 'unknown'}"
      ]
     },
     "execution_count": 19,
     "metadata": {},
     "output_type": "execute_result"
    }
   ],
   "source": [
    "furk['contact'] = encoder.fit_transform(furk['contact'])\n",
    "contact = {index : label for index, label in enumerate(encoder.classes_)}\n",
    "contact"
   ]
  },
  {
   "cell_type": "code",
   "execution_count": 20,
   "id": "3f49ffed-abf6-4474-ad39-f996ff7bcc1d",
   "metadata": {},
   "outputs": [
    {
     "data": {
      "text/plain": [
       "{0: 'apr',\n",
       " 1: 'aug',\n",
       " 2: 'dec',\n",
       " 3: 'feb',\n",
       " 4: 'jan',\n",
       " 5: 'jul',\n",
       " 6: 'jun',\n",
       " 7: 'mar',\n",
       " 8: 'may',\n",
       " 9: 'nov',\n",
       " 10: 'oct'}"
      ]
     },
     "execution_count": 20,
     "metadata": {},
     "output_type": "execute_result"
    }
   ],
   "source": [
    "furk['month'] = encoder.fit_transform(furk['month'])\n",
    "month = {index : label for index, label in enumerate(encoder.classes_)}\n",
    "month"
   ]
  },
  {
   "cell_type": "code",
   "execution_count": 22,
   "id": "593210ac-2187-4229-b470-0d7dfc0a11b0",
   "metadata": {},
   "outputs": [
    {
     "data": {
      "text/plain": [
       "{0: 'no', 1: 'yes'}"
      ]
     },
     "execution_count": 22,
     "metadata": {},
     "output_type": "execute_result"
    }
   ],
   "source": [
    "furk['housing'] = encoder.fit_transform(furk['housing'])\n",
    "housing = {index : label for index, label in enumerate(encoder.classes_)}\n",
    "housing"
   ]
  },
  {
   "cell_type": "code",
   "execution_count": 23,
   "id": "ceaca61d-5af0-4345-996f-4190848f70bc",
   "metadata": {},
   "outputs": [],
   "source": [
    "x = furk.drop('y', axis=1)\n",
    "y = furk['y']"
   ]
  },
  {
   "cell_type": "code",
   "execution_count": 24,
   "id": "1d75d600-5288-40e6-9d35-64488c43028a",
   "metadata": {},
   "outputs": [],
   "source": [
    "from sklearn.preprocessing import MinMaxScaler"
   ]
  },
  {
   "cell_type": "code",
   "execution_count": 25,
   "id": "e5cd4a1f-1e0d-43ca-994c-8c8e4137ea83",
   "metadata": {},
   "outputs": [
    {
     "name": "stdout",
     "output_type": "stream",
     "text": [
      "x \n",
      " [[0.51315789 0.36363636 0.5        0.66666667 0.         0.09225936\n",
      "  1.         0.         1.         0.13333333 0.8        0.05307035\n",
      "  0.        ]\n",
      " [0.32894737 0.81818182 1.         0.33333333 0.         0.07306666\n",
      "  1.         0.         1.         0.13333333 0.8        0.03070354\n",
      "  0.        ]\n",
      " [0.18421053 0.18181818 0.5        0.33333333 0.         0.07282153\n",
      "  1.         1.         1.         0.13333333 0.8        0.01545344\n",
      "  0.        ]\n",
      " [0.36842105 0.09090909 0.5        1.         0.         0.08647613\n",
      "  1.         0.         1.         0.13333333 0.8        0.01870679\n",
      "  0.        ]\n",
      " [0.18421053 1.         1.         1.         0.         0.07281245\n",
      "  0.         0.         1.         0.13333333 0.8        0.04026027\n",
      "  0.        ]\n",
      " [0.21052632 0.36363636 0.5        0.66666667 0.         0.07490059\n",
      "  1.         0.         1.         0.13333333 0.8        0.02826352\n",
      "  0.        ]\n",
      " [0.11842105 0.36363636 1.         0.66666667 0.         0.07686162\n",
      "  1.         1.         1.         0.13333333 0.8        0.04412363\n",
      "  0.        ]\n",
      " [0.30263158 0.18181818 0.         0.66666667 1.         0.07282153\n",
      "  1.         0.         1.         0.13333333 0.8        0.07726718\n",
      "  0.        ]\n",
      " [0.51315789 0.45454545 0.5        0.         0.         0.07390191\n",
      "  1.         0.         1.         0.13333333 0.8        0.01016673\n",
      "  0.        ]\n",
      " [0.31578947 0.81818182 1.         0.33333333 0.         0.07818713\n",
      "  1.         0.         1.         0.13333333 0.8        0.01118341\n",
      "  0.        ]]\n",
      "y \n",
      " 0    no\n",
      "1    no\n",
      "2    no\n",
      "3    no\n",
      "4    no\n",
      "5    no\n",
      "6    no\n",
      "7    no\n",
      "8    no\n",
      "9    no\n",
      "Name: y, dtype: object\n"
     ]
    }
   ],
   "source": [
    "scaler = MinMaxScaler(copy=True, feature_range=(0, 1))\n",
    "X = scaler.fit_transform(x)\n",
    "\n",
    "#showing data\n",
    "print('x \\n' , X[:10])\n",
    "print('y \\n' , y[:10])"
   ]
  },
  {
   "cell_type": "code",
   "execution_count": 26,
   "id": "cfce11b6-f27f-470d-bb4d-e1ccab9d627f",
   "metadata": {},
   "outputs": [],
   "source": [
    "from sklearn.model_selection import train_test_split"
   ]
  },
  {
   "cell_type": "code",
   "execution_count": 27,
   "id": "df49e711-62d2-4ddb-b1e1-c34864900b04",
   "metadata": {},
   "outputs": [],
   "source": [
    "x_train,x_test,y_train,y_test=train_test_split(x,y,test_size=33,random_state=0)"
   ]
  },
  {
   "cell_type": "code",
   "execution_count": 28,
   "id": "7571390d-2686-42cd-a387-e79a91b02414",
   "metadata": {},
   "outputs": [
    {
     "name": "stdout",
     "output_type": "stream",
     "text": [
      "x_train shape is (39967, 13)\n"
     ]
    }
   ],
   "source": [
    "print(\"x_train shape is\",x_train.shape)"
   ]
  },
  {
   "cell_type": "code",
   "execution_count": 29,
   "id": "fe0e2031-74f1-44eb-86c2-8c61c42a6fef",
   "metadata": {},
   "outputs": [
    {
     "name": "stdout",
     "output_type": "stream",
     "text": [
      "y_train shape is (39967,)\n"
     ]
    }
   ],
   "source": [
    "print(\"y_train shape is\",y_train.shape)"
   ]
  },
  {
   "cell_type": "code",
   "execution_count": 30,
   "id": "535965ab-eb23-42aa-9e8e-53c0c068ed18",
   "metadata": {},
   "outputs": [
    {
     "name": "stdout",
     "output_type": "stream",
     "text": [
      "x_test shape is  (33, 13)\n"
     ]
    }
   ],
   "source": [
    "print(\"x_test shape is \",x_test.shape)"
   ]
  },
  {
   "cell_type": "code",
   "execution_count": 31,
   "id": "2027e5e6-79fa-4752-b416-e9075dd9990b",
   "metadata": {},
   "outputs": [
    {
     "name": "stdout",
     "output_type": "stream",
     "text": [
      "y_test shape is (33,)\n"
     ]
    }
   ],
   "source": [
    "print(\"y_test shape is\",y_test.shape)"
   ]
  },
  {
   "cell_type": "code",
   "execution_count": 32,
   "id": "963e73fd-571b-46d5-806b-272bce2ac311",
   "metadata": {},
   "outputs": [],
   "source": [
    "from sklearn.ensemble import RandomForestClassifier\n",
    "from sklearn.tree import DecisionTreeClassifier"
   ]
  },
  {
   "cell_type": "code",
   "execution_count": 35,
   "id": "54cdf11f-6cb0-4732-bc6d-0dd98635ed4a",
   "metadata": {},
   "outputs": [
    {
     "name": "stdout",
     "output_type": "stream",
     "text": [
      "RandomForestClassifierModel Train Score is :  0.927590261966122\n",
      "RandomForestClassifierModel Test Score is :  0.9393939393939394\n",
      "RandomForestClassifierModel features importances are :  [1.08091126e-01 4.32140484e-04 3.45771752e-02 8.41855495e-03\n",
      " 0.00000000e+00 2.72900626e-02 2.52132984e-02 8.02626803e-04\n",
      " 7.79732214e-02 3.47177718e-02 1.70266137e-01 5.06144069e-01\n",
      " 6.07381694e-03]\n",
      "----------------------------------------------------\n",
      "Predicted Value for RandomForestClassifierModel is :  ['no' 'no' 'no' 'no' 'no' 'no' 'no' 'no' 'no' 'no']\n",
      "Prediction Probabilities Value for RandomForestClassifierModel is :  [[0.94746831 0.05253169]\n",
      " [0.95070122 0.04929878]\n",
      " [0.9554442  0.0445558 ]\n",
      " [0.95520317 0.04479683]\n",
      " [0.94050343 0.05949657]\n",
      " [0.94472426 0.05527574]\n",
      " [0.76271133 0.23728867]\n",
      " [0.94645688 0.05354312]\n",
      " [0.94866182 0.05133818]\n",
      " [0.94736933 0.05263067]]\n"
     ]
    }
   ],
   "source": [
    "RandomForestClassifierModel = RandomForestClassifier(criterion = 'gini',n_estimators=100,max_depth=2,random_state=33) #criterion can be also : entropy \n",
    "RandomForestClassifierModel.fit(x_train, y_train)\n",
    "\n",
    "\n",
    "print('RandomForestClassifierModel Train Score is : ' , RandomForestClassifierModel.score(x_train, y_train))\n",
    "print('RandomForestClassifierModel Test Score is : ' , RandomForestClassifierModel.score(x_test, y_test))\n",
    "print('RandomForestClassifierModel features importances are : ' , RandomForestClassifierModel.feature_importances_)\n",
    "print('----------------------------------------------------')\n",
    "\n",
    "\n",
    "y_pred = RandomForestClassifierModel.predict(x_test)\n",
    "y_pred_prob = RandomForestClassifierModel.predict_proba(x_test)\n",
    "print('Predicted Value for RandomForestClassifierModel is : ' , y_pred[:10])\n",
    "print('Prediction Probabilities Value for RandomForestClassifierModel is : ' , y_pred_prob[:10])"
   ]
  },
  {
   "cell_type": "code",
   "execution_count": 36,
   "id": "92216ff0-f283-4a6d-bff0-3238fe887f6b",
   "metadata": {},
   "outputs": [
    {
     "name": "stdout",
     "output_type": "stream",
     "text": [
      "DecisionTreeClassifierModel Train Score is :  0.927590261966122\n",
      "DecisionTreeClassifierModel Test Score is :  0.9393939393939394\n",
      "DecisionTreeClassifierModel Classes are :  ['no' 'yes']\n",
      "DecisionTreeClassifierModel feature importances are :  [0. 0. 0. 0. 0. 0. 0. 0. 0. 0. 0. 1. 0.]\n",
      "----------------------------------------------------\n",
      "Predicted Value for DecisionTreeClassifierModel is :  ['no' 'no' 'no' 'no' 'no' 'no' 'no' 'no' 'no' 'no']\n",
      "Prediction Probabilities Value for DecisionTreeClassifierModel is :  [[0.96255999 0.03744001]\n",
      " [0.96255999 0.03744001]\n",
      " [0.96255999 0.03744001]\n",
      " [0.96255999 0.03744001]\n",
      " [0.96255999 0.03744001]\n",
      " [0.96255999 0.03744001]\n",
      " [0.5383915  0.4616085 ]\n",
      " [0.96255999 0.03744001]\n",
      " [0.96255999 0.03744001]\n",
      " [0.96255999 0.03744001]]\n"
     ]
    }
   ],
   "source": [
    "DecisionTreeClassifierModel = DecisionTreeClassifier(criterion='gini',max_depth=1,random_state=33) #criterion can be entropy\n",
    "DecisionTreeClassifierModel.fit(x_train, y_train)\n",
    "\n",
    "\n",
    "print('DecisionTreeClassifierModel Train Score is : ' , DecisionTreeClassifierModel.score(x_train, y_train))\n",
    "print('DecisionTreeClassifierModel Test Score is : ' , DecisionTreeClassifierModel.score(x_test, y_test))\n",
    "print('DecisionTreeClassifierModel Classes are : ' , DecisionTreeClassifierModel.classes_)\n",
    "print('DecisionTreeClassifierModel feature importances are : ' , DecisionTreeClassifierModel.feature_importances_)\n",
    "print('----------------------------------------------------')\n",
    "\n",
    "\n",
    "y_pred = DecisionTreeClassifierModel.predict(x_test)\n",
    "y_pred_prob = DecisionTreeClassifierModel.predict_proba(x_test)\n",
    "print('Predicted Value for DecisionTreeClassifierModel is : ' , y_pred[:10])\n",
    "print('Prediction Probabilities Value for DecisionTreeClassifierModel is : ' , y_pred_prob[:10])"
   ]
  },
  {
   "cell_type": "code",
   "execution_count": 37,
   "id": "d06f1543-9d72-468a-937a-e191cbdfc176",
   "metadata": {},
   "outputs": [],
   "source": [
    "from sklearn.metrics import f1_score\n",
    "from sklearn.metrics import precision_score"
   ]
  },
  {
   "cell_type": "code",
   "execution_count": 41,
   "id": "b89325ae-e7fb-496b-9f24-e4c41fe7c9b9",
   "metadata": {},
   "outputs": [
    {
     "name": "stdout",
     "output_type": "stream",
     "text": [
      "F1 Score is :  0.9393939393939394\n"
     ]
    }
   ],
   "source": [
    "F1Score = f1_score(y_test, y_pred, average='micro')\n",
    "print('F1 Score is : ', F1Score)"
   ]
  },
  {
   "cell_type": "code",
   "execution_count": 40,
   "id": "6824d5bd-aa2f-4801-aab5-a4c1e16112d6",
   "metadata": {},
   "outputs": [
    {
     "name": "stdout",
     "output_type": "stream",
     "text": [
      "Precision Score is :  0.9393939393939394\n"
     ]
    }
   ],
   "source": [
    "PrecisionScore = precision_score(y_test, y_pred, average='micro')\n",
    "print('Precision Score is : ', PrecisionScore)"
   ]
  },
  {
   "cell_type": "code",
   "execution_count": null,
   "id": "4ee2fd22-888c-4ff9-934d-7f2dfef3facc",
   "metadata": {},
   "outputs": [],
   "source": []
  }
 ],
 "metadata": {
  "kernelspec": {
   "display_name": "Python 3 (ipykernel)",
   "language": "python",
   "name": "python3"
  },
  "language_info": {
   "codemirror_mode": {
    "name": "ipython",
    "version": 3
   },
   "file_extension": ".py",
   "mimetype": "text/x-python",
   "name": "python",
   "nbconvert_exporter": "python",
   "pygments_lexer": "ipython3",
   "version": "3.9.7"
  }
 },
 "nbformat": 4,
 "nbformat_minor": 5
}
